{
 "cells": [
  {
   "cell_type": "code",
   "execution_count": null,
   "id": "08608635",
   "metadata": {},
   "outputs": [],
   "source": [
    "!pip install matplotlib japanize-matplotlib"
   ]
  },
  {
   "cell_type": "code",
   "execution_count": null,
   "id": "9b126e2a",
   "metadata": {},
   "outputs": [],
   "source": [
    "import matplotlib.pyplot as plt\n",
    "import japanize_matplotlib\n",
    "import pandas as pd\n",
    "\n",
    "# データの読み込み\n",
    "df = pd.read_csv(\"../../01_factor-analysis/data/factor_analysis_test_data.csv\", index_col=0)\n",
    "\n",
    "# 算数と理科のデータを抽出\n",
    "math_science = df[[\"算数\", \"理科\"]]\n",
    "\n",
    "# 算数と理科の散布図を描画\n",
    "plt.figure(figsize=(8, 6))\n",
    "plt.scatter(math_science[\"算数\"], math_science[\"理科\"], alpha=0.5)\n",
    "plt.title(\"算数と理科の散布図\")\n",
    "plt.xlabel(\"算数\")\n",
    "plt.ylabel(\"理科\")\n",
    "plt.grid() # グリッドを表示\n",
    "plt.savefig(\"../fig/01_python_scatter.png\", dpi=300, bbox_inches='tight') # 保存する場合\n",
    "# plt.show() # 表示する場合"
   ]
  },
  {
   "cell_type": "code",
   "execution_count": null,
   "id": "d2070d0c",
   "metadata": {},
   "outputs": [],
   "source": [
    "# データを標準化\n",
    "from sklearn.preprocessing import StandardScaler\n",
    "scaler = StandardScaler()\n",
    "math_science_scaled = scaler.fit_transform(math_science)\n",
    "\n",
    "# 標準化後のデータをDataFrameに変換\n",
    "math_science_scaled = pd.DataFrame(math_science_scaled, columns=[\"算数\", \"理科\"], index=math_science.index)\n",
    "\n",
    "# 標準化後の算数と理科の散布図を描画\n",
    "plt.figure(figsize=(8, 6))\n",
    "plt.scatter(math_science_scaled[\"算数\"], math_science_scaled[\"理科\"], alpha = 0.5)\n",
    "plt.title(\"標準化後の算数と理科の散布図\")\n",
    "plt.xlabel(\"算数 (標準化後)\")\n",
    "plt.ylabel(\"理科 (標準化後)\")\n",
    "plt.grid() # グリッドを表示\n",
    "plt.savefig(\"../fig/02_python_scaled_scatter.png\", dpi=300, bbox_inches='tight') # 保存する場合\n",
    "# plt.show() # 表示する場合"
   ]
  }
 ],
 "metadata": {
  "kernelspec": {
   "display_name": "Python 3 (ipykernel)",
   "language": "python",
   "name": "python3"
  },
  "language_info": {
   "codemirror_mode": {
    "name": "ipython",
    "version": 3
   },
   "file_extension": ".py",
   "mimetype": "text/x-python",
   "name": "python",
   "nbconvert_exporter": "python",
   "pygments_lexer": "ipython3",
   "version": "3.12.11"
  }
 },
 "nbformat": 4,
 "nbformat_minor": 5
}
