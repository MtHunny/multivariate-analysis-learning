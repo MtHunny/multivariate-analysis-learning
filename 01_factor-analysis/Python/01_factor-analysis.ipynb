{
 "cells": [
  {
   "cell_type": "code",
   "execution_count": null,
   "id": "c27b55cc",
   "metadata": {},
   "outputs": [],
   "source": [
    "!pip install factor_analyzer"
   ]
  },
  {
   "cell_type": "code",
   "execution_count": null,
   "id": "0a78a28e",
   "metadata": {},
   "outputs": [],
   "source": [
    "from factor_analyzer import FactorAnalyzer\n",
    "import pandas as pd\n",
    "\n",
    "# データの読み込み\n",
    "df = pd.read_csv('../data/factor_analysis_test_data.csv', index_col=0)\n",
    "\n",
    "# 因子分析を設定、因子数を2、とりあえず回転なしで\n",
    "fa = FactorAnalyzer(n_factors=2, rotation=None)\n",
    "\n",
    "# データフレーム df に適用\n",
    "fa.fit(df)"
   ]
  },
  {
   "cell_type": "code",
   "execution_count": null,
   "id": "38a36cb0",
   "metadata": {},
   "outputs": [],
   "source": [
    "# 因子負荷量を取得\n",
    "fa.loadings_"
   ]
  }
 ],
 "metadata": {
  "kernelspec": {
   "display_name": "Python 3 (ipykernel)",
   "language": "python",
   "name": "python3"
  },
  "language_info": {
   "codemirror_mode": {
    "name": "ipython",
    "version": 3
   },
   "file_extension": ".py",
   "mimetype": "text/x-python",
   "name": "python",
   "nbconvert_exporter": "python",
   "pygments_lexer": "ipython3",
   "version": "3.12.11"
  }
 },
 "nbformat": 4,
 "nbformat_minor": 5
}
