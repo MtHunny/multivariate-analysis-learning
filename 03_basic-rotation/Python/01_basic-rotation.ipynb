{
 "cells": [
  {
   "cell_type": "code",
   "execution_count": null,
   "id": "06ba255f",
   "metadata": {},
   "outputs": [],
   "source": [
    "from factor_analyzer import FactorAnalyzer\n",
    "import pandas as pd\n",
    "\n",
    "# データの読み込み\n",
    "df = pd.read_csv('../../01_factor-analysis/data/factor_analysis_test_data.csv', index_col=0)\n",
    "\n",
    "# 因子分析を設定、因子数を2、バリマックス回転で\n",
    "fa_varimax = FactorAnalyzer(n_factors=2, rotation=\"varimax\")\n",
    "\n",
    "# データフレーム df に適用\n",
    "fa_varimax.fit(df)"
   ]
  },
  {
   "cell_type": "code",
   "execution_count": null,
   "id": "8ac661bd",
   "metadata": {},
   "outputs": [],
   "source": [
    "# 因子負荷量を取得\n",
    "fa_varimax.loadings_"
   ]
  },
  {
   "cell_type": "code",
   "execution_count": null,
   "id": "60fe7211",
   "metadata": {},
   "outputs": [],
   "source": [
    "# 因子分析を設定、因子数を2、プロマックス回転で\n",
    "fa_promax = FactorAnalyzer(n_factors=2, rotation=\"promax\")\n",
    "\n",
    "# データフレーム df に適用\n",
    "fa_promax.fit(df)"
   ]
  },
  {
   "cell_type": "code",
   "execution_count": null,
   "id": "a7428134",
   "metadata": {},
   "outputs": [],
   "source": [
    "# 因子負荷量を取得\n",
    "fa_promax.loadings_"
   ]
  }
 ],
 "metadata": {
  "kernelspec": {
   "display_name": "Python 3 (ipykernel)",
   "language": "python",
   "name": "python3"
  },
  "language_info": {
   "codemirror_mode": {
    "name": "ipython",
    "version": 3
   },
   "file_extension": ".py",
   "mimetype": "text/x-python",
   "name": "python",
   "nbconvert_exporter": "python",
   "pygments_lexer": "ipython3",
   "version": "3.12.11"
  }
 },
 "nbformat": 4,
 "nbformat_minor": 5
}
